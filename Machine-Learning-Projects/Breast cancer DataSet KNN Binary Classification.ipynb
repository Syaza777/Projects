{
  "nbformat": 4,
  "nbformat_minor": 0,
  "metadata": {
    "colab": {
      "provenance": []
    },
    "kernelspec": {
      "name": "python3",
      "display_name": "Python 3"
    },
    "language_info": {
      "name": "python"
    }
  },
  "cells": [
    {
      "cell_type": "markdown",
      "metadata": {
        "id": "7TGwXGI4W15x"
      },
      "source": [
        "First, import the libraries"
      ]
    },
    {
      "cell_type": "code",
      "metadata": {
        "id": "mbkPnmuXV-PJ"
      },
      "source": [
        "import pandas as pd\n",
        "import numpy as np\n",
        "import math\n",
        "import operator\n",
        "import seaborn as sns\n",
        "import matplotlib.pyplot as plt\n",
        "%matplotlib inline\n",
        "\n",
        "\n",
        "# To remove unwanted warnings\n",
        "import warnings\n",
        "warnings.filterwarnings(\"ignore\")"
      ],
      "execution_count": null,
      "outputs": []
    },
    {
      "cell_type": "markdown",
      "metadata": {
        "id": "K2o9OmjAXImS"
      },
      "source": [
        "Let's import the sklearn library that will be used for machine learning."
      ]
    },
    {
      "cell_type": "code",
      "metadata": {
        "id": "Jd4muOrxXNUM"
      },
      "source": [
        "import sklearn"
      ],
      "execution_count": null,
      "outputs": []
    },
    {
      "cell_type": "markdown",
      "metadata": {
        "id": "-0d9-tWVXQ22"
      },
      "source": [
        "Then we load the Breast Cancer data set from sklearn"
      ]
    },
    {
      "cell_type": "code",
      "metadata": {
        "id": "Vc1HXLlSYOG2"
      },
      "source": [
        "from sklearn.datasets import load_breast_cancer"
      ],
      "execution_count": null,
      "outputs": []
    },
    {
      "cell_type": "markdown",
      "metadata": {
        "id": "uXsTz3eZmQcZ"
      },
      "source": [
        "Let's take a quick look about description of the data"
      ]
    },
    {
      "cell_type": "code",
      "metadata": {
        "colab": {
          "base_uri": "https://localhost:8080/"
        },
        "id": "Mx3Ywp60max1",
        "outputId": "dd0f0010-b1d8-4459-bcb1-021b7527839f"
      },
      "source": [
        "data1 = load_breast_cancer()\n",
        "print(data1.DESCR[:760]) # Print the short description"
      ],
      "execution_count": null,
      "outputs": [
        {
          "output_type": "stream",
          "name": "stdout",
          "text": [
            ".. _breast_cancer_dataset:\n",
            "\n",
            "Breast cancer wisconsin (diagnostic) dataset\n",
            "--------------------------------------------\n",
            "\n",
            "**Data Set Characteristics:**\n",
            "\n",
            "    :Number of Instances: 569\n",
            "\n",
            "    :Number of Attributes: 30 numeric, predictive attributes and the class\n",
            "\n",
            "    :Attribute Information:\n",
            "        - radius (mean of distances from center to points on the perimeter)\n",
            "        - texture (standard deviation of gray-scale values)\n",
            "        - perimeter\n",
            "        - area\n",
            "        - smoothness (local variation in radius lengths)\n",
            "        - compactness (perimeter^2 / area - 1.0)\n",
            "        - concavity (severity of concave portions of the contour)\n",
            "        - concave points (number of concave portions of the contour)\n",
            "        - symmetry\n",
            "        - fractal dimension (\"coastline appr\n"
          ]
        }
      ]
    },
    {
      "cell_type": "markdown",
      "metadata": {
        "id": "xLzSEhqNm28q"
      },
      "source": [
        "Let's see what are the target classes of types of the cancer."
      ]
    },
    {
      "cell_type": "code",
      "metadata": {
        "colab": {
          "base_uri": "https://localhost:8080/"
        },
        "id": "foinSBFtm_zt",
        "outputId": "24524e1f-d2e7-4c0e-f0b3-36e27fc6395f"
      },
      "source": [
        "# show types of breast cancer\n",
        "print(f\"Types of cancer (targets) are {data1.target_names}\")"
      ],
      "execution_count": null,
      "outputs": [
        {
          "output_type": "stream",
          "name": "stdout",
          "text": [
            "Types of cancer (targets) are ['malignant' 'benign']\n"
          ]
        }
      ]
    },
    {
      "cell_type": "markdown",
      "metadata": {
        "id": "0t3msU4hn40S"
      },
      "source": [
        "What is the dimension of data? We see there are 569 examples and each example has 30 features.\n",
        "The target variable is binary (0 and 1 for malignant and benign).\n",
        "\n",
        "We will consider benign as positive class, and malignant as negative class.\n",
        "\n",
        "We can understand it as:\n",
        "0 for is_not_benign\n",
        "1 for is_benign"
      ]
    },
    {
      "cell_type": "code",
      "metadata": {
        "colab": {
          "base_uri": "https://localhost:8080/"
        },
        "id": "Se4-wkFXn3CH",
        "outputId": "73f73d64-398d-4b61-801e-f79a051ff27d"
      },
      "source": [
        "X = data1.data  # features\n",
        "y = data1.target  # labels\n",
        "print(f\"Shape of features is {X.shape}, and shape of target is {y.shape}\")"
      ],
      "execution_count": null,
      "outputs": [
        {
          "output_type": "stream",
          "name": "stdout",
          "text": [
            "Shape of features is (569, 30), and shape of target is (569,)\n"
          ]
        }
      ]
    },
    {
      "cell_type": "markdown",
      "metadata": {
        "id": "ve6bw9RJifiC"
      },
      "source": [
        "Now, we split the data into two(2) sets which are Train data and Test Data to check later on whether or not our K-Nearest Neighbour Classifier Model for Breast Cancer (Diagnostic) Data Set works correctly.\n",
        "\n",
        "Train/Test Split involves splitting the dataset into training and testing sets respectively, which are mutually exclusive.\n",
        "This will provide a more accurate evaluation on out-of-sample accuracy because the testing dataset is not part of the dataset that have been used to train the data. It is more realistic for real world problems."
      ]
    },
    {
      "cell_type": "code",
      "metadata": {
        "id": "-n3Xy4FjiwcW"
      },
      "source": [
        "from sklearn.model_selection import train_test_split\n",
        "\n",
        "# All the measurement (features) are considered as X and the Diagnosis considered as y\n",
        "X_train, X_test, y_train, y_test = train_test_split(X, y, test_size=200,\n",
        "                                                    random_state=42,\n",
        "                                                    stratify=y)\n",
        "# for a test data set for 2 types Breast Cancer\n",
        "from sklearn.neighbors import KNeighborsClassifier\n",
        "\n",
        "from sklearn.model_selection import cross_val_score\n",
        "from sklearn import metrics\n",
        "from sklearn import svm\n",
        "from sklearn.metrics import accuracy_score\n",
        "from sklearn.metrics import classification_report\n",
        "from sklearn.metrics import recall_score , precision_score , roc_auc_score ,roc_curve\n",
        "from sklearn.metrics import auc\n",
        "from sklearn.metrics import confusion_matrix\n",
        "from sklearn.svm import SVC"
      ],
      "execution_count": null,
      "outputs": []
    },
    {
      "cell_type": "code",
      "metadata": {
        "colab": {
          "base_uri": "https://localhost:8080/"
        },
        "id": "dl2Z6Kj0s6ay",
        "outputId": "c20d42bc-463e-4011-f01b-c4bb118336bc"
      },
      "source": [
        "y_train[:10]"
      ],
      "execution_count": null,
      "outputs": [
        {
          "output_type": "execute_result",
          "data": {
            "text/plain": [
              "array([1, 1, 1, 1, 0, 1, 1, 1, 0, 1])"
            ]
          },
          "metadata": {},
          "execution_count": 299
        }
      ]
    },
    {
      "cell_type": "code",
      "metadata": {
        "colab": {
          "base_uri": "https://localhost:8080/"
        },
        "id": "PzVk9WEwjyB9",
        "outputId": "eeac9635-8f46-4372-8dc6-b3dbd3708ea3"
      },
      "source": [
        "print ('Train set:', X_train.shape,  y_train.shape)\n",
        "print ('Test set:', X_test.shape,  y_test.shape)"
      ],
      "execution_count": null,
      "outputs": [
        {
          "output_type": "stream",
          "name": "stdout",
          "text": [
            "Train set: (369, 30) (369,)\n",
            "Test set: (200, 30) (200,)\n"
          ]
        }
      ]
    },
    {
      "cell_type": "markdown",
      "metadata": {
        "id": "zYzg_WqvA6sD"
      },
      "source": [
        "Sklearn is used to split the data. The specified test size of the data set is 0.3 according to the above code segment. Therefore, 30% of data is split into the test, and the remaining 70% is used to train the model."
      ]
    },
    {
      "cell_type": "markdown",
      "metadata": {
        "id": "_ldGPLJSveCp"
      },
      "source": [
        "Let's classify the data to nearest data point and identify types of cancer."
      ]
    },
    {
      "cell_type": "code",
      "metadata": {
        "id": "ZLf-NXsWvm0M"
      },
      "source": [
        "# Instantiate learning model (k=4)\n",
        "knn = KNeighborsClassifier(n_neighbors=4)"
      ],
      "execution_count": null,
      "outputs": []
    },
    {
      "cell_type": "markdown",
      "metadata": {
        "id": "N5GruOoUv9em"
      },
      "source": [
        "It trains quite fast since we are working with relatively small dataset."
      ]
    },
    {
      "cell_type": "code",
      "metadata": {
        "colab": {
          "base_uri": "https://localhost:8080/"
        },
        "id": "dNgo4LMqvulw",
        "outputId": "8a5d99fb-1aca-4f0f-8628-9f15da380eef"
      },
      "source": [
        "# Fitting the model with training data\n",
        "knn.fit(X_train, y_train)"
      ],
      "execution_count": null,
      "outputs": [
        {
          "output_type": "execute_result",
          "data": {
            "text/plain": [
              "KNeighborsClassifier(n_neighbors=4)"
            ]
          },
          "metadata": {},
          "execution_count": 302
        }
      ]
    },
    {
      "cell_type": "markdown",
      "metadata": {
        "id": "TPmGzXOJv-tj"
      },
      "source": [
        "Before predict the result, it is possible to have estimate mean accuracy on the given test data and labels,"
      ]
    },
    {
      "cell_type": "code",
      "metadata": {
        "colab": {
          "base_uri": "https://localhost:8080/"
        },
        "id": "Z_HqnTxpwNSP",
        "outputId": "0c996679-1d61-426f-8657-1332464fece1"
      },
      "source": [
        "knn.score(X_test, y_test)"
      ],
      "execution_count": null,
      "outputs": [
        {
          "output_type": "execute_result",
          "data": {
            "text/plain": [
              "0.92"
            ]
          },
          "metadata": {},
          "execution_count": 303
        }
      ]
    },
    {
      "cell_type": "markdown",
      "metadata": {
        "id": "dZ5z_acuwX-5"
      },
      "source": [
        "Now save the prediction results both as probability and as classes.\n",
        "y_preds is a 1D vector of one of {0, 1} values, denoting predictions as malignant and benign, respectively.\n",
        "\n",
        "y_proba is a 2D vector,\n",
        "where for each example, it contains a vector of length 2,\n",
        "\n",
        "[prob. of malignant, prob. of benign]"
      ]
    },
    {
      "cell_type": "code",
      "metadata": {
        "id": "RyxX8511wZPj"
      },
      "source": [
        "y_preds = knn.predict(X_test)\n",
        "y_proba = knn.predict_proba(X_test)"
      ],
      "execution_count": null,
      "outputs": []
    },
    {
      "cell_type": "markdown",
      "metadata": {
        "id": "jywDA35IwvuQ"
      },
      "source": [
        "We need to reshape y_proba to a 1D vector denoting the probability of having benign cancer."
      ]
    },
    {
      "cell_type": "code",
      "metadata": {
        "id": "erj_kTjQwwrt"
      },
      "source": [
        "y_proba = y_proba[:,1].reshape((y_proba.shape[0],))"
      ],
      "execution_count": null,
      "outputs": []
    },
    {
      "cell_type": "code",
      "metadata": {
        "colab": {
          "base_uri": "https://localhost:8080/"
        },
        "id": "hMrtxvgpw25z",
        "outputId": "9195b0ea-8bb4-4fde-9238-d5dd1a52ac63"
      },
      "source": [
        "y_proba[:5], y_preds[:5], y_test[:5]"
      ],
      "execution_count": null,
      "outputs": [
        {
          "output_type": "execute_result",
          "data": {
            "text/plain": [
              "(array([1., 0., 1., 1., 1.]), array([1, 0, 1, 1, 1]), array([1, 0, 1, 1, 1]))"
            ]
          },
          "metadata": {},
          "execution_count": 306
        }
      ]
    },
    {
      "cell_type": "markdown",
      "metadata": {
        "id": "eRqb2EkGwz_R"
      },
      "source": [
        "Now we want to calculate confusion matrix of the predictions and model accuracy. It is implemented in Scikit-learn's.\n",
        "\n",
        "\n",
        "For evaluating an algorithm, confusion matrix, precision, recall and f1 score are the most commonly used metrics. The confusion_matrix and classification_report methods of the sklearn.metrics can be used to calculate these metrics."
      ]
    },
    {
      "cell_type": "code",
      "metadata": {
        "id": "ZidJu5LByeBb"
      },
      "source": [
        "def get_confusion_matrix(y_true, y_pred):\n",
        "    n_classes = len(np.unique(y_true))\n",
        "    conf = np.zeros((n_classes, n_classes))\n",
        "    for actual, pred in zip(y_true, y_pred):\n",
        "        conf[int(actual)][int(pred)] += 1\n",
        "    return conf.astype('int')"
      ],
      "execution_count": null,
      "outputs": []
    },
    {
      "cell_type": "code",
      "metadata": {
        "colab": {
          "base_uri": "https://localhost:8080/"
        },
        "id": "_u8aN3T5xLB1",
        "outputId": "e9c97336-3b1e-43ed-d4cb-c97c46b69e04"
      },
      "source": [
        "conf = metrics.confusion_matrix(y_test, y_preds)\n",
        "conf"
      ],
      "execution_count": null,
      "outputs": [
        {
          "output_type": "execute_result",
          "data": {
            "text/plain": [
              "array([[ 67,   8],\n",
              "       [  8, 117]])"
            ]
          },
          "metadata": {},
          "execution_count": 308
        }
      ]
    },
    {
      "cell_type": "code",
      "metadata": {
        "colab": {
          "base_uri": "https://localhost:8080/",
          "height": 332
        },
        "id": "PV5c4dP1y1oE",
        "outputId": "473f6cda-ef59-4d56-890b-8c2128866dce"
      },
      "source": [
        "classes = [0, 1]\n",
        "\n",
        "# plot confusion matrix\n",
        "plt.imshow(conf, interpolation='nearest', cmap=plt.cm.Reds)\n",
        "plt.title(\"Confusion Matrix\")\n",
        "plt.colorbar()\n",
        "tick_marks = np.arange(len(classes))\n",
        "plt.xticks(tick_marks, classes)\n",
        "plt.yticks(tick_marks, classes)\n",
        "\n",
        "fmt = 'd'\n",
        "thresh = conf.max() / 2.\n",
        "import itertools\n",
        "for i, j in itertools.product(range(conf.shape[0]), range(conf.shape[1])):\n",
        "    plt.text(j, i, format(conf[i, j], fmt),\n",
        "             horizontalalignment=\"center\",\n",
        "             color=\"white\" if conf[i, j] > thresh else \"black\")\n",
        "\n",
        "plt.tight_layout()\n",
        "plt.ylabel('True label')\n",
        "plt.xlabel('Predicted label')"
      ],
      "execution_count": null,
      "outputs": [
        {
          "output_type": "execute_result",
          "data": {
            "text/plain": [
              "Text(0.5, 12.5, 'Predicted label')"
            ]
          },
          "metadata": {},
          "execution_count": 309
        },
        {
          "output_type": "display_data",
          "data": {
            "image/png": "[encoded data removed]",
            "text/plain": [
              "<Figure size 432x288 with 2 Axes>"
            ]
          },
          "metadata": {
            "needs_background": "light"
          }
        }
      ]
    },
    {
      "cell_type": "code",
      "metadata": {
        "colab": {
          "base_uri": "https://localhost:8080/"
        },
        "id": "eM7oCoLO1M9c",
        "outputId": "794825d0-d626-4cd8-ad13-e8495bc11853"
      },
      "source": [
        "# Calculate the model accuracy\n",
        "accuracy = accuracy_score(y_test, y_preds)*100\n",
        "print('Accuracy of the model is equal ' + str(round(accuracy, 2)) + '%.')"
      ],
      "execution_count": null,
      "outputs": [
        {
          "output_type": "stream",
          "name": "stdout",
          "text": [
            "Accuracy of the model is equal 92.0%.\n"
          ]
        }
      ]
    },
    {
      "cell_type": "markdown",
      "metadata": {
        "id": "b_auqzp603tU"
      },
      "source": [
        "From the confusion matrix, we can see the number of examples predicted correct by our classifier, for both classes seperately.\n",
        "We can get the numbers of True Positives, True Negatives, False Positives, and False Negatives from this confusion matrix.\n",
        "Lets store these terms in some variables."
      ]
    },
    {
      "cell_type": "code",
      "metadata": {
        "id": "L6DkZn3p05D8"
      },
      "source": [
        "# from the confusion matrix\n",
        "TP = true_pos = 117\n",
        "TN = true_neg = 67\n",
        "FP = false_pos = 8\n",
        "FN = false_neg = 8"
      ],
      "execution_count": null,
      "outputs": []
    },
    {
      "cell_type": "markdown",
      "metadata": {
        "id": "7UKnCsr-2HW0"
      },
      "source": [
        "Now, we will calculate some basic metrics from these four values.\n",
        "We will need a dictionary to store these metrics. Lets create a dictionary results."
      ]
    },
    {
      "cell_type": "code",
      "metadata": {
        "id": "yu11KBx12JvO"
      },
      "source": [
        "results = {}"
      ],
      "execution_count": null,
      "outputs": []
    },
    {
      "cell_type": "markdown",
      "metadata": {
        "id": "2caBDqZt2aPQ"
      },
      "source": [
        "Accuracy = number of examples correctly predicted / total number of examples\n",
        "\n",
        "Accuracy = (TP+TN) / (TP+FP+FN+TN)"
      ]
    },
    {
      "cell_type": "code",
      "metadata": {
        "colab": {
          "base_uri": "https://localhost:8080/"
        },
        "id": "26bxvXiT2sPk",
        "outputId": "c8836237-219d-44f4-80b0-dd0217e988ba"
      },
      "source": [
        "metric = \"ACC\"\n",
        "results[metric] = (TP + TN) / (TP + TN + FP + FN)\n",
        "print(f\"{metric} is {results[metric]: .2f}\")"
      ],
      "execution_count": null,
      "outputs": [
        {
          "output_type": "stream",
          "name": "stdout",
          "text": [
            "ACC is  0.92\n"
          ]
        }
      ]
    },
    {
      "cell_type": "markdown",
      "metadata": {
        "id": "TV9D_ll120FU"
      },
      "source": [
        "True Positive Rate\n",
        "\n",
        "Sensitivity or Recall = number of samples actually and predicted as Positive / total number of samples actually Positive\n",
        "\n",
        "Sensitivity or Recall = TP/P = TP/(TP+FN)\n",
        "\n"
      ]
    },
    {
      "cell_type": "code",
      "metadata": {
        "colab": {
          "base_uri": "https://localhost:8080/"
        },
        "id": "hdRFMq2D3Oty",
        "outputId": "e2e53cf9-9df2-4247-866f-70d734ed2b88"
      },
      "source": [
        "# Sensitivity or Recall\n",
        "metric = \"TPR\"\n",
        "results[metric] = TP / (TP + FN)\n",
        "print(f\"{metric} is {results[metric]: .2f}\")"
      ],
      "execution_count": null,
      "outputs": [
        {
          "output_type": "stream",
          "name": "stdout",
          "text": [
            "TPR is  0.94\n"
          ]
        }
      ]
    },
    {
      "cell_type": "markdown",
      "metadata": {
        "id": "S84_2kyA3Vzi"
      },
      "source": [
        "True Negative Rate\n",
        "\n",
        "Specificity = number of samples actually and predicted as Negative / total number of samples actually Negative\n",
        "\n",
        "Specificity = TN/N = TN/(TN+FP)"
      ]
    },
    {
      "cell_type": "code",
      "metadata": {
        "colab": {
          "base_uri": "https://localhost:8080/"
        },
        "id": "65MQXqhZ3hm9",
        "outputId": "4cbda7c5-b768-4d3f-ce3b-e03626a0eac4"
      },
      "source": [
        "# Specificity\n",
        "metric = \"TNR\"\n",
        "results[metric] = TN / (TN + FP)\n",
        "print(f\"{metric} is {results[metric]: .2f}\")"
      ],
      "execution_count": null,
      "outputs": [
        {
          "output_type": "stream",
          "name": "stdout",
          "text": [
            "TNR is  0.89\n"
          ]
        }
      ]
    },
    {
      "cell_type": "markdown",
      "metadata": {
        "id": "oLL7aDeo3pO3"
      },
      "source": [
        "Positive Predictive Value\n",
        "\n",
        "Precision = number of samples actually and predicted as Positive / total number of samples predicted as Positive\n",
        "\n",
        "Precision = TP/(TP+FP)"
      ]
    },
    {
      "cell_type": "code",
      "metadata": {
        "colab": {
          "base_uri": "https://localhost:8080/"
        },
        "id": "A5quzb3930oe",
        "outputId": "47b6fef3-d657-4ad5-dc3e-1c16feb76425"
      },
      "source": [
        "# Precision\n",
        "metric = \"PPV\"\n",
        "results[metric] = TP / (TP + FP)\n",
        "print(f\"{metric} is {results[metric]: .2f}\")"
      ],
      "execution_count": null,
      "outputs": [
        {
          "output_type": "stream",
          "name": "stdout",
          "text": [
            "PPV is  0.94\n"
          ]
        }
      ]
    },
    {
      "cell_type": "markdown",
      "metadata": {
        "id": "AKBRvaEi34vi"
      },
      "source": [
        "Negative Predictive Value\n",
        "\n",
        "Precision = number of samples actually and predicted as Negative / total number of samples predicted as Negative\n",
        "\n",
        "Precision = TN/(TN+FN)"
      ]
    },
    {
      "cell_type": "code",
      "metadata": {
        "colab": {
          "base_uri": "https://localhost:8080/"
        },
        "id": "xFTfYh4V4dLI",
        "outputId": "13fb8a90-68f9-4a84-d68b-f417793b988c"
      },
      "source": [
        "metric = \"NPV\"\n",
        "results[metric] = TN / (TN + FN)\n",
        "print(f\"{metric} is {results[metric]: .2f}\")"
      ],
      "execution_count": null,
      "outputs": [
        {
          "output_type": "stream",
          "name": "stdout",
          "text": [
            "NPV is  0.89\n"
          ]
        }
      ]
    },
    {
      "cell_type": "markdown",
      "metadata": {
        "id": "oHGpTOQD4vNN"
      },
      "source": [
        "F1 score\n",
        "\n",
        "Harmonic Mean of Precision and Recall.\n",
        "\n",
        "![alt text](https://wikimedia.org/api/rest_v1/media/math/render/svg/5663ca95d471868169c4e4ea57c936f1b6f4a588)"
      ]
    },
    {
      "cell_type": "code",
      "metadata": {
        "colab": {
          "base_uri": "https://localhost:8080/"
        },
        "id": "40fm5ICx48i6",
        "outputId": "bf5f5c66-43f6-4aa2-c59f-7b410b9bbfb6"
      },
      "source": [
        "metric = \"F1 Score\"\n",
        "results[metric] = 2 / (1 / results[\"PPV\"] + 1 / results[\"TPR\"])\n",
        "print(f\"{metric} is {results[metric]: .2f}\")"
      ],
      "execution_count": null,
      "outputs": [
        {
          "output_type": "stream",
          "name": "stdout",
          "text": [
            "F1 Score is  0.94\n"
          ]
        }
      ]
    },
    {
      "cell_type": "code",
      "metadata": {
        "colab": {
          "base_uri": "https://localhost:8080/"
        },
        "id": "D7T_jVuq1d3-",
        "outputId": "fd8db8e1-51f1-4bd4-8d53-ee93e836f410"
      },
      "source": [
        "# Show the classification report\n",
        "# 0 = malignant\n",
        "# 1 = benign\n",
        "print(classification_report(y_test, y_preds))"
      ],
      "execution_count": null,
      "outputs": [
        {
          "output_type": "stream",
          "name": "stdout",
          "text": [
            "              precision    recall  f1-score   support\n",
            "\n",
            "           0       0.89      0.89      0.89        75\n",
            "           1       0.94      0.94      0.94       125\n",
            "\n",
            "    accuracy                           0.92       200\n",
            "   macro avg       0.91      0.91      0.91       200\n",
            "weighted avg       0.92      0.92      0.92       200\n",
            "\n"
          ]
        }
      ]
    },
    {
      "cell_type": "markdown",
      "metadata": {
        "id": "G22YoqXl5U3u"
      },
      "source": [
        "The results show that our KNN algorithm was able to classify all the 200 records in the test set with 92% accuracy, which is not perfect. Although the algorithm performed well with this dataset, don't expect the same results with all applications because KNN doesn't always perform as well with high-dimensionality or categorical features."
      ]
    },
    {
      "cell_type": "markdown",
      "metadata": {
        "id": "teRhElOY5myp"
      },
      "source": [
        "Let's try to use the cross-validation for parameter tuning to help us know which value yields the best results. We will plot the graph of K value and the corresponding error rate for the data set."
      ]
    },
    {
      "cell_type": "code",
      "metadata": {
        "colab": {
          "base_uri": "https://localhost:8080/"
        },
        "id": "lLQiezxgBxdd",
        "outputId": "48077811-85c1-4a12-9d85-e8bfe52b67cb"
      },
      "source": [
        "neighbors = [] # Empty list to store neighbors\n",
        "cv_scores = [] # Empty list to store scores\n",
        "\n",
        "# To perform 10-fold cross validation\n",
        "for k in range(1, 51):\n",
        "  neighbors.append(k)\n",
        "  knn = KNeighborsClassifier(n_neighbors=k)\n",
        "  scores = cross_val_score(knn, X_train, y_train, cv=10, scoring='accuracy')\n",
        "  cv_scores.append(scores.mean())\n",
        "\n",
        "# Passing the entire of X and y, not X_train or y_train, it takes split data\n",
        "# cv=10 for 10 folds\n",
        "#Scoring = 'accuarcy' for evaluation metric\n",
        "\n",
        "scores = cross_val_score(knn, X, y, cv=10, scoring='accuracy')\n",
        "print(scores)"
      ],
      "execution_count": null,
      "outputs": [
        {
          "output_type": "stream",
          "name": "stdout",
          "text": [
            "[0.89473684 0.84210526 0.9122807  0.94736842 0.92982456 0.92982456\n",
            " 0.94736842 0.94736842 0.92982456 0.92857143]\n"
          ]
        }
      ]
    },
    {
      "cell_type": "markdown",
      "metadata": {
        "id": "mFDtdn0nFGuA"
      },
      "source": [
        "Next we plot the misclassification error over the number of K neighbors to determine the optimal K value which provides the highest accuracy score.\n",
        "\n",
        "The process is done by using following code segment."
      ]
    },
    {
      "cell_type": "code",
      "metadata": {
        "colab": {
          "base_uri": "https://localhost:8080/",
          "height": 494
        },
        "id": "gQ6zDcZ9FkEu",
        "outputId": "2f769651-6ea4-4c85-eccc-f4d60c7bd202"
      },
      "source": [
        "# Misclassification error versus k\n",
        "MSE = [1-x for x in cv_scores]\n",
        "\n",
        "# Determine the best k value\n",
        "optimal_k = neighbors[MSE.index(min(MSE))]\n",
        "print('The optimal number of K neighbors = %d'  %optimal_k)\n",
        "\n",
        "plt.figure()\n",
        "# Plot misclassification error versus k\n",
        "plt.figure(figsize=(15,10))\n",
        "plt.xlabel('Number of Neighbors K', fontsize=15)\n",
        "plt.ylabel('Misclassification Error', fontsize=15)\n",
        "sns.set_style(\"darkgrid\")\n",
        "plt.plot(neighbors, MSE)\n",
        "plt.show()"
      ],
      "execution_count": null,
      "outputs": [
        {
          "output_type": "stream",
          "name": "stdout",
          "text": [
            "The optimal number of K neighbors = 6\n"
          ]
        },
        {
          "output_type": "display_data",
          "data": {
            "text/plain": [
              "<Figure size 432x288 with 0 Axes>"
            ]
          },
          "metadata": {}
        },
        {
          "output_type": "display_data",
          "data": {
            "image/png": "[encoded data removed]",
            "text/plain": [
              "<Figure size 1080x720 with 1 Axes>"
            ]
          },
          "metadata": {
            "needs_background": "light"
          }
        }
      ]
    },
    {
      "cell_type": "markdown",
      "metadata": {
        "id": "MvnLej9s8zao"
      },
      "source": [
        "**ROC curve (Receiver Operating Characteristic curve)**\n",
        "\n",
        "A receiver operating characteristic curve, i.e. ROC curve, is a graphical plot that illustrates the diagnostic ability of a binary classifier system as its discrimination threshold is varied.\n",
        "The ROC curve is created by plotting the True Positive Rate (TPR) against the False Positive Rate (FPR) at various threshold settings.\n",
        "\n",
        "Let's plot the ROC curve for the Breast Cancer Dataset.\n",
        "\n"
      ]
    },
    {
      "cell_type": "code",
      "metadata": {
        "colab": {
          "base_uri": "https://localhost:8080/",
          "height": 301
        },
        "id": "gHJ672jM3Kd8",
        "outputId": "efc625f7-c162-4427-b6e9-c1b87a311a7a"
      },
      "source": [
        "knn.fit(X_train, y_train)\n",
        "y_proba = knn.predict_proba(X_test)\n",
        "fpr, tpr, threshold = roc_curve(y_test, y_proba[:, 1])\n",
        "roc_auc = auc(fpr, tpr)\n",
        "\n",
        "plt.title('Receiver Operating Characteristic')\n",
        "plt.plot(fpr, tpr, 'b', label = 'AUC = %0.2f' % roc_auc)\n",
        "plt.legend(loc = 'lower right')\n",
        "plt.plot([0, 1], [0, 1],'r--', label=\"Mean\")\n",
        "plt.xlim([-0.05, 1])\n",
        "plt.ylim([0, 1.05])\n",
        "plt.ylabel('True Positive Rate')\n",
        "plt.xlabel('False Positive Rate')\n",
        "plt.title('ROC Curve of k-Nearest Neighbour')\n",
        "plt.show()"
      ],
      "execution_count": null,
      "outputs": [
        {
          "output_type": "display_data",
          "data": {
            "image/png": "[encoded data removed]",
            "text/plain": [
              "<Figure size 432x288 with 1 Axes>"
            ]
          },
          "metadata": {}
        }
      ]
    },
    {
      "cell_type": "markdown",
      "metadata": {
        "id": "PnH0vkVj8-QQ"
      },
      "source": [
        "The peak towards left-most corner means near perfect classifier, while random prediction will have the curve as the blue dotted straight line. This ROC curve tells us that our model is nearly perfect classifier, with high accuracy.\n",
        "\n",
        "Now, calculate an ROC curve with random predictions, and plot it to see the difference."
      ]
    },
    {
      "cell_type": "code",
      "metadata": {
        "colab": {
          "base_uri": "https://localhost:8080/"
        },
        "id": "GGiEPEgL9Yo2",
        "outputId": "66945008-8e0b-48f4-9f13-c05b8514b72a"
      },
      "source": [
        "# create random predictions\n",
        "rand_proba = np.random.random(size=(y_proba.shape))\n",
        "rand_proba[:4]  # 0.5 probability of being 0 or 1"
      ],
      "execution_count": null,
      "outputs": [
        {
          "output_type": "execute_result",
          "data": {
            "text/plain": [
              "array([[0.10312387, 0.90255291],\n",
              "       [0.50525237, 0.82645747],\n",
              "       [0.3200496 , 0.89552323],\n",
              "       [0.38920168, 0.01083765]])"
            ]
          },
          "metadata": {},
          "execution_count": 340
        }
      ]
    },
    {
      "cell_type": "code",
      "metadata": {
        "colab": {
          "base_uri": "https://localhost:8080/",
          "height": 301
        },
        "id": "uiEC9bWH-jVH",
        "outputId": "2e2d929a-da6c-4b4b-d6da-0f786cbf6871"
      },
      "source": [
        "fpr, tpr, threshold = roc_curve(y_test, rand_proba[:, 1])\n",
        "roc_auc = auc(fpr, tpr)\n",
        "\n",
        "plt.plot(fpr, tpr, 'b', label = 'AUC = %0.2f' % roc_auc)\n",
        "plt.legend(loc = 'lower right')\n",
        "plt.plot([0, 1], [0, 1],'r--', label=\"Mean\")\n",
        "plt.xlim([-0.05, 1])\n",
        "plt.ylim([0, 1.05])\n",
        "plt.ylabel('True Positive Rate')\n",
        "plt.xlabel('False Positive Rate')\n",
        "plt.title('Random Prediction ROC Curve')\n",
        "plt.show()"
      ],
      "execution_count": null,
      "outputs": [
        {
          "output_type": "display_data",
          "data": {
            "image/png": "[encoded data removed]",
            "text/plain": [
              "<Figure size 432x288 with 1 Axes>"
            ]
          },
          "metadata": {}
        }
      ]
    },
    {
      "cell_type": "markdown",
      "metadata": {
        "id": "-nBFxbsnC8rW"
      },
      "source": [
        "As we can see from the above plot, random predictions give the ROC curve nearly at the mean. Contrast it with the previous curve, how our model has top left peak, due to its superior performance."
      ]
    },
    {
      "cell_type": "markdown",
      "metadata": {
        "id": "eCiLr_2ZDOKi"
      },
      "source": [
        "Compare the similiarity of these curve's to the ROC curve with scikit's implementation."
      ]
    },
    {
      "cell_type": "code",
      "metadata": {
        "colab": {
          "base_uri": "https://localhost:8080/",
          "height": 301
        },
        "id": "jo2rkoOODBU-",
        "outputId": "b678c412-3b5a-4159-a678-634eb6fd50ae"
      },
      "source": [
        "fpr, tpr, _ = metrics.roc_curve(y_test, y_proba[:, 1])\n",
        "# Plot the ROC curve\n",
        "plt.plot(fpr, tpr,\n",
        "         lw=2, label='ROC curve')\n",
        "plt.plot([0, 1], [0, 1], lw=2, linestyle='--', label=\"Mean\")\n",
        "plt.xlim([-0.05, 1.0])\n",
        "plt.ylim([0.0, 1.05])\n",
        "plt.xlabel('False Positive Rate')\n",
        "plt.ylabel('True Positive Rate')\n",
        "plt.title(\"Scikit-learn's ROC curve\")\n",
        "plt.legend(loc=\"lower right\")\n",
        "plt.show()"
      ],
      "execution_count": null,
      "outputs": [
        {
          "output_type": "display_data",
          "data": {
            "image/png": "[encoded data removed]",
            "text/plain": [
              "<Figure size 432x288 with 1 Axes>"
            ]
          },
          "metadata": {}
        }
      ]
    },
    {
      "cell_type": "code",
      "metadata": {
        "colab": {
          "base_uri": "https://localhost:8080/",
          "height": 301
        },
        "id": "dWUHuJKJEls7",
        "outputId": "56854c23-6170-4726-bfc8-2916c67a2c98"
      },
      "source": [
        "fpr, tpr, _ = metrics.roc_curve(y_test, rand_proba[:, 1]) #passing random prediction\n",
        "\n",
        "# Plot the ROC Curve\n",
        "plt.plot(fpr, tpr,\n",
        "         lw=2, label='ROC curve')\n",
        "plt.plot([0, 1], [0, 1],  lw=2, linestyle='--', label=\"Mean\")\n",
        "plt.xlim([-0.05, 1.0])\n",
        "plt.ylim([0.0, 1.05])\n",
        "plt.xlabel('False Positive Rate')\n",
        "plt.ylabel('True Positive Rate')\n",
        "plt.title(\"Scikit-learn's Random Predictions ROC curve\")\n",
        "plt.legend(loc=\"lower right\")\n",
        "plt.show()"
      ],
      "execution_count": null,
      "outputs": [
        {
          "output_type": "display_data",
          "data": {
            "image/png": "[encoded data removed]",
            "text/plain": [
              "<Figure size 432x288 with 1 Axes>"
            ]
          },
          "metadata": {}
        }
      ]
    },
    {
      "cell_type": "markdown",
      "metadata": {
        "id": "y9VKSqEaFfje"
      },
      "source": [
        "**ROC-AUC Score**\n",
        "\n",
        "Now that, we know about ROC Curve, that represent AUC score. AUC stands for Area under the Curve, which is nothing but the area under the ROC curve formed by the predictions."
      ]
    }
  ]
}