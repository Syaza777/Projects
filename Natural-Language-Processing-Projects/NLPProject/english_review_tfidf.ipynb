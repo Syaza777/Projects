{
 "cells": [
  {
   "cell_type": "code",
   "execution_count": 1,
   "id": "99b591ad",
   "metadata": {},
   "outputs": [],
   "source": [
    "from nltk.tokenize import word_tokenize\n",
    "from nltk.corpus import stopwords\n",
    "from nltk.stem import PorterStemmer\n",
    "import matplotlib.pyplot as plt\n",
    "from wordcloud import WordCloud\n",
    "from math import log, sqrt\n",
    "import pandas as pd\n",
    "import numpy as np\n",
    "import re"
   ]
  },
  {
   "cell_type": "code",
   "execution_count": 2,
   "id": "69419ae7",
   "metadata": {},
   "outputs": [
    {
     "name": "stdout",
     "output_type": "stream",
     "text": [
      "positive    56\n",
      "negative    44\n",
      "Name: labels, dtype: int64\n",
      "                        review  label\n",
      "0        Good delivery method       1\n",
      "1                  Few classes      0\n",
      "2             Average delivery      1\n",
      "3       this subject is no fun      0\n",
      "4  I kind of like this subject      1\n"
     ]
    }
   ],
   "source": [
    "review = pd.read_csv(\"ENGLISH.csv\", encoding = 'latin-1')\n",
    "review.rename(columns = {'v1': 'labels', 'v2': 'review'}, inplace = True)\n",
    "#print(tweet.head())\n",
    "print(review['labels'].value_counts())\n",
    "review['label'] = review['labels'].map({'negative': 0, 'positive': 1})\n",
    "review.drop(['labels'], axis = 1, inplace = True)\n",
    "print(review.head())"
   ]
  },
  {
   "cell_type": "code",
   "execution_count": 3,
   "id": "03141156",
   "metadata": {},
   "outputs": [],
   "source": [
    "totalReview = 60 + 38\n",
    "trainIndex, testIndex = list(), list()\n",
    "for i in range(review.shape[0]):\n",
    "    if np.random.uniform(0, 1) < 0.75:\n",
    "        trainIndex += [i]\n",
    "    else:\n",
    "        testIndex += [i]\n",
    "trainData = review.loc[trainIndex]\n",
    "testData = review.loc[testIndex]"
   ]
  },
  {
   "cell_type": "code",
   "execution_count": 4,
   "id": "ccccabd3",
   "metadata": {},
   "outputs": [
    {
     "name": "stdout",
     "output_type": "stream",
     "text": [
      "                        review  label\n",
      "0        Good delivery method       1\n",
      "1                  Few classes      0\n",
      "2             Average delivery      1\n",
      "3       this subject is no fun      0\n",
      "4  I kind of like this subject      1\n",
      "1    40\n",
      "0    35\n",
      "Name: label, dtype: int64\n",
      "                                 review  label\n",
      "0                            Quite good      1\n",
      "1     group discussion gives me anxiety      0\n",
      "2                   i like this subject      1\n",
      "3  i think i did good on listening test      1\n",
      "4               english is my favorite!      1\n",
      "1    16\n",
      "0     9\n",
      "Name: label, dtype: int64\n"
     ]
    }
   ],
   "source": [
    "trainData.reset_index(inplace = True)\n",
    "trainData.drop(['index'], axis = 1, inplace = True)\n",
    "print(trainData.head())\n",
    "print(trainData['label'].value_counts())\n",
    "\n",
    "testData.reset_index(inplace = True)\n",
    "testData.drop(['index'], axis = 1, inplace = True)\n",
    "print(testData.head())\n",
    "print(testData['label'].value_counts())"
   ]
  },
  {
   "cell_type": "code",
   "execution_count": 5,
   "id": "ae225199",
   "metadata": {},
   "outputs": [],
   "source": [
    "def process_message(message, lower_case = True, stem = True, stop_words = True, gram = 2):\n",
    "    if lower_case:\n",
    "        message = message.lower()\n",
    "    words = word_tokenize(message)\n",
    "    words = [w for w in words if len(w) > 2]\n",
    "    if gram > 1:\n",
    "        w = []\n",
    "        for i in range(len(words) - gram + 1):\n",
    "            w += [' '.join(words[i:i + gram])]\n",
    "        return w\n",
    "    if stop_words:\n",
    "        sw = stopwords.words('english')\n",
    "        words = [word for word in words if word not in sw]\n",
    "    if stem:\n",
    "        stemmer = PorterStemmer()\n",
    "        words = [stemmer.stem(word) for word in words]   \n",
    "    return words"
   ]
  },
  {
   "cell_type": "code",
   "execution_count": 6,
   "id": "a652a35e",
   "metadata": {},
   "outputs": [],
   "source": [
    "class ReviewClassifier(object):\n",
    "    def __init__(self, trainData, method = 'tf-idf'):\n",
    "        self.review, self.labels = trainData['review'], trainData['label']\n",
    "        self.method = method\n",
    "\n",
    "    def train(self):\n",
    "        self.calc_TF_and_IDF()\n",
    "        if self.method == 'tf-idf':\n",
    "            self.calc_TF_IDF()    #TF-IDF \n",
    "\n",
    "    def calc_prob(self):\n",
    "        self.prob_positive = dict()\n",
    "        self.prob_negative = dict()\n",
    "        for word in self.tf_positive:\n",
    "            self.prob_positive[word] = (self.tf_positive[word] + 1) / (self.positive_words + \\\n",
    "                                                                len(list(self.tf_positive.keys())))\n",
    "        for word in self.tf_negative:\n",
    "            self.prob_negative[word] = (self.tf_negative[word] + 1) / (self.negative_words + \\\n",
    "                                                                len(list(self.tf_negative.keys())))\n",
    "        self.prob_positive_review, self.prob_negative_review = self.positive_review / self.total_review, self.negative_review / self.total_review \n",
    "        \n",
    "    def calc_TF_and_IDF(self):\n",
    "        noOfReview = self.review.shape[0]\n",
    "        self.positive_review, self.negative_review = self.labels.value_counts()[1], self.labels.value_counts()[0]\n",
    "        self.total_review = self.positive_review + self.negative_review\n",
    "        self.positive_words = 0\n",
    "        self.negative_words = 0\n",
    "        self.tf_positive = dict()\n",
    "        self.tf_negative = dict()\n",
    "        self.idf_positive = dict()\n",
    "        self.idf_negative = dict()\n",
    "        for i in range(noOfReview):\n",
    "            message_processed = process_message(self.review[i])\n",
    "            count = list() #To keep track of whether the word has ocured in the message or not.\n",
    "                           #For IDF\n",
    "            for word in message_processed:\n",
    "                if self.labels[i]:\n",
    "                    self.tf_positive[word] = self.tf_positive.get(word, 0) + 1\n",
    "                    self.positive_words += 1\n",
    "                else:\n",
    "                    self.tf_negative[word] = self.tf_negative.get(word, 0) + 1\n",
    "                    self.negative_words += 1\n",
    "                if word not in count:\n",
    "                    count += [word]\n",
    "            for word in count:\n",
    "                if self.labels[i]:\n",
    "                    self.idf_positive[word] = self.idf_positive.get(word, 0) + 1\n",
    "                else:\n",
    "                    self.idf_negative[word] = self.idf_negative.get(word, 0) + 1\n",
    "\n",
    "    def calc_TF_IDF(self):\n",
    "        self.prob_positive = dict()\n",
    "        self.prob_negative = dict()\n",
    "        self.sum_tf_idf_positive = 0\n",
    "        self.sum_tf_idf_negative = 0\n",
    "        for word in self.tf_positive:\n",
    "            self.prob_positive[word] = (self.tf_positive[word]) * log((self.positive_review + self.negative_review) \\\n",
    "                                                          / (self.idf_positive[word] + self.idf_negative.get(word, 0)))\n",
    "            self.sum_tf_idf_positive += self.prob_positive[word]\n",
    "        for word in self.tf_positive:\n",
    "            self.prob_positive[word] = (self.prob_positive[word] + 1) / (self.sum_tf_idf_positive + len(list(self.prob_positive.keys())))\n",
    "            \n",
    "        for word in self.tf_negative:\n",
    "            self.prob_negative[word] = (self.tf_negative[word]) * log((self.positive_review + self.negative_review) \\\n",
    "                                                          / (self.idf_positive.get(word, 0) + self.idf_negative[word]))\n",
    "            self.sum_tf_idf_negative += self.prob_negative[word]\n",
    "        for word in self.tf_negative:\n",
    "            self.prob_negative[word] = (self.prob_negative[word] + 1) / (self.sum_tf_idf_negative + len(list(self.prob_negative.keys())))\n",
    "            \n",
    "    \n",
    "        self.prob_positive_review, self.prob_negative_review = self.positive_review / self.total_review, self.negative_review / self.total_review \n",
    "                    \n",
    "    def classify(self, processed_message):\n",
    "        pPositive, pNegative = 0, 0\n",
    "        for word in processed_message:                \n",
    "            if word in self.prob_positive:\n",
    "                pPositive += log(self.prob_positive[word])\n",
    "            else:\n",
    "                if self.method == 'tf-idf':\n",
    "                    pPositive -= log(self.sum_tf_idf_positive + len(list(self.prob_positive.keys())))\n",
    "                else:\n",
    "                    pPositive -= log(self.positive_words + len(list(self.prob_posiitive.keys())))\n",
    "            if word in self.prob_negative:\n",
    "                pNegative += log(self.prob_negative[word])\n",
    "            else:\n",
    "                if self.method == 'tf-idf':\n",
    "                    pNegative -= log(self.sum_tf_idf_negative + len(list(self.prob_negative.keys()))) \n",
    "                else:\n",
    "                    pNegative -= log(self.negative_words + len(list(self.prob_negative.keys())))\n",
    "            pPositive += log(self.prob_positive_review)\n",
    "            pNegative += log(self.prob_negative_review)\n",
    "        return pPositive >= pNegative\n",
    "    \n",
    "    def predict(self, testData):\n",
    "        result = dict()\n",
    "        for (i, message) in enumerate(testData):\n",
    "            processed_message = process_message(message)\n",
    "            result[i] = int(self.classify(processed_message))\n",
    "        return result\n",
    "\n"
   ]
  },
  {
   "cell_type": "code",
   "execution_count": 7,
   "id": "75dc2d73",
   "metadata": {},
   "outputs": [],
   "source": [
    "def metrics(labels, predictions):\n",
    "    true_pos, true_neg, false_pos, false_neg = 0, 0, 0, 0\n",
    "    for i in range(len(labels)):\n",
    "        true_pos += int(labels[i] == 1 and predictions[i] == 1)\n",
    "        true_neg += int(labels[i] == 0 and predictions[i] == 0)\n",
    "        false_pos += int(labels[i] == 0 and predictions[i] == 1)\n",
    "        false_neg += int(labels[i] == 1 and predictions[i] == 0)\n",
    "    precision = true_pos / (true_pos + false_pos)\n",
    "    recall = true_pos / (true_pos + false_neg)\n",
    "    Fscore = 2 * precision * recall / (precision + recall)\n",
    "    accuracy = (true_pos + true_neg) / (true_pos + true_neg + false_pos + false_neg)\n",
    "\n",
    "    print(\"Precision: \", precision)\n",
    "    print(\"Recall: \", recall)\n",
    "    print(\"F1-score: \", Fscore)\n",
    "    print(\"Accuracy: \", accuracy)"
   ]
  },
  {
   "cell_type": "code",
   "execution_count": 8,
   "id": "e1bdb6a2",
   "metadata": {},
   "outputs": [
    {
     "name": "stdout",
     "output_type": "stream",
     "text": [
      "Precision:  0.7142857142857143\n",
      "Recall:  0.9375\n",
      "F1-score:  0.8108108108108109\n",
      "Accuracy:  0.72\n"
     ]
    }
   ],
   "source": [
    "sc_tf_idf = ReviewClassifier(trainData, 'tf-idf')\n",
    "sc_tf_idf.train()\n",
    "preds_tf_idf = sc_tf_idf.predict(testData['review'])\n",
    "metrics(testData['label'], preds_tf_idf)"
   ]
  },
  {
   "cell_type": "code",
   "execution_count": 9,
   "id": "658173ad",
   "metadata": {},
   "outputs": [],
   "source": [
    "def prediction(opinion):\n",
    "    pm = process_message(opinion)\n",
    "    print(opinion)\n",
    "    print(\"Result:\", sc_tf_idf.classify(pm))"
   ]
  },
  {
   "cell_type": "code",
   "execution_count": 12,
   "id": "d4ec25aa",
   "metadata": {},
   "outputs": [
    {
     "data": {
      "image/png": "[encoded data removed]",
      "text/plain": [
       "<Figure size 640x480 with 1 Axes>"
      ]
     },
     "metadata": {},
     "output_type": "display_data"
    }
   ],
   "source": [
    "import matplotlib.pyplot as plt\n",
    "\n",
    "def piechart():\n",
    "    y = np.array([44, 56])\n",
    "    label = [\"Positive\", \"Negative\"]\n",
    "\n",
    "    plt.pie(y, labels = label)\n",
    "    plt.show()\n",
    "    \n",
    "piechart()"
   ]
  },
  {
   "cell_type": "code",
   "execution_count": null,
   "id": "df46acba",
   "metadata": {},
   "outputs": [],
   "source": []
  }
 ],
 "metadata": {
  "kernelspec": {
   "display_name": "Python 3",
   "language": "python",
   "name": "python3"
  },
  "language_info": {
   "codemirror_mode": {
    "name": "ipython",
    "version": 3
   },
   "file_extension": ".py",
   "mimetype": "text/x-python",
   "name": "python",
   "nbconvert_exporter": "python",
   "pygments_lexer": "ipython3",
   "version": "3.9.13"
  }
 },
 "nbformat": 4,
 "nbformat_minor": 5
}
